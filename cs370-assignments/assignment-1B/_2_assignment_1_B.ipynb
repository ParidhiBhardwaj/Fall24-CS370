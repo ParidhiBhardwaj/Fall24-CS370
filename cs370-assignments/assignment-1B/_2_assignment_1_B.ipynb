{
  "nbformat": 4,
  "nbformat_minor": 0,
  "metadata": {
    "colab": {
      "provenance": []
    },
    "kernelspec": {
      "name": "python3",
      "display_name": "Python 3"
    },
    "language_info": {
      "name": "python"
    }
  },
  "cells": [
    {
      "cell_type": "code",
      "execution_count": null,
      "metadata": {
        "id": "0iC4NL3IoZS1"
      },
      "outputs": [],
      "source": []
    },
    {
      "cell_type": "markdown",
      "source": [
        "***Paridhi Bhardwaj, CS370:- ASSIGNMENT 1B ***\n",
        "Logistic Regression\n",
        "Task 1: Data Preprocessing"
      ],
      "metadata": {
        "id": "RfchWhAGoddK"
      }
    },
    {
      "cell_type": "code",
      "source": [
        "import pandas as pd\n",
        "import torch\n",
        "import matplotlib.pyplot as plt\n",
        "import torch.nn as nn\n",
        "from sklearn.preprocessing import LabelEncoder\n",
        "\n",
        "!pip install kaggle\n",
        "!mkdir -p ~/.kaggle\n",
        "!cp kaggle.json ~/.kaggle/\n",
        "!chmod 600 ~/.kaggle/kaggle.json\n",
        "!kaggle competitions download -c avazu-ctr-prediction\n",
        "!unzip avazu-ctr-prediction.zip -d /content/"
      ],
      "metadata": {
        "colab": {
          "base_uri": "https://localhost:8080/"
        },
        "id": "B5mw_w-JoctG",
        "outputId": "66d2f457-7de8-4209-dd6d-7f4ce986b8d8"
      },
      "execution_count": 7,
      "outputs": [
        {
          "output_type": "stream",
          "name": "stdout",
          "text": [
            "Requirement already satisfied: kaggle in /usr/local/lib/python3.10/dist-packages (1.6.17)\n",
            "Requirement already satisfied: six>=1.10 in /usr/local/lib/python3.10/dist-packages (from kaggle) (1.16.0)\n",
            "Requirement already satisfied: certifi>=2023.7.22 in /usr/local/lib/python3.10/dist-packages (from kaggle) (2024.8.30)\n",
            "Requirement already satisfied: python-dateutil in /usr/local/lib/python3.10/dist-packages (from kaggle) (2.8.2)\n",
            "Requirement already satisfied: requests in /usr/local/lib/python3.10/dist-packages (from kaggle) (2.32.3)\n",
            "Requirement already satisfied: tqdm in /usr/local/lib/python3.10/dist-packages (from kaggle) (4.66.5)\n",
            "Requirement already satisfied: python-slugify in /usr/local/lib/python3.10/dist-packages (from kaggle) (8.0.4)\n",
            "Requirement already satisfied: urllib3 in /usr/local/lib/python3.10/dist-packages (from kaggle) (2.2.3)\n",
            "Requirement already satisfied: bleach in /usr/local/lib/python3.10/dist-packages (from kaggle) (6.1.0)\n",
            "Requirement already satisfied: webencodings in /usr/local/lib/python3.10/dist-packages (from bleach->kaggle) (0.5.1)\n",
            "Requirement already satisfied: text-unidecode>=1.3 in /usr/local/lib/python3.10/dist-packages (from python-slugify->kaggle) (1.3)\n",
            "Requirement already satisfied: charset-normalizer<4,>=2 in /usr/local/lib/python3.10/dist-packages (from requests->kaggle) (3.3.2)\n",
            "Requirement already satisfied: idna<4,>=2.5 in /usr/local/lib/python3.10/dist-packages (from requests->kaggle) (3.10)\n",
            "avazu-ctr-prediction.zip: Skipping, found more recently modified local copy (use --force to force download)\n",
            "Archive:  avazu-ctr-prediction.zip\n",
            "replace /content/sampleSubmission.gz? [y]es, [n]o, [A]ll, [N]one, [r]ename: "
          ]
        }
      ]
    },
    {
      "cell_type": "code",
      "source": [
        "def getData(n=100_000):\n",
        "    Name = '/content/train.gz'\n",
        "    sizeVal = 10**6\n",
        "\n",
        "    data = pd.read_csv(Name, compression='gzip', nrows=n)\n",
        "    return data\n",
        "\n",
        "def PPD(data):\n",
        "  data = data.drop(columns=['device_id', 'device_ip', 'site_id'])\n",
        "  data = data.dropna()\n",
        "\n",
        "  choseVal=['click', 'site_category', 'app_category', 'device_type', 'device_conn_type']\n",
        "  data = data[choseVal]\n",
        "  data_use = pd.get_dummies(data, columns=['app_category', 'device_type', 'device_conn_type'], drop_first=True)\n",
        "\n",
        "  if 'click' in data_use.columns:\n",
        "    y = data_use['click'].mean()\n",
        "    X = data_use['click'].std()\n",
        "    data_use['click'] = (data_use['click'] - y) / X\n",
        "\n",
        "  return data_use\n",
        "\n",
        "data = getData(300_000)\n",
        "train = data.sample(10000)\n",
        "data_PPD = PPD(train)\n",
        "\n",
        "\n",
        "X = data_PPD.drop('site_category', axis=1).values\n",
        "Y = data_PPD['site_category'].values\n",
        "\n",
        "X = X.astype('float32')\n",
        "label_encoder = LabelEncoder()\n",
        "Y = label_encoder.fit_transform(Y)\n",
        "Y = Y.astype('float32')\n",
        "\n",
        "tenseX= torch.tensor(X, dtype=torch.float32)\n",
        "tenseY= torch.tensor(Y, dtype=torch.float32)\n",
        "\n",
        "print(\"Tensor Shape of X\", tenseX.shape)\n",
        "print(\"Tensor Shape of Y\", tenseY.shape)\n"
      ],
      "metadata": {
        "colab": {
          "base_uri": "https://localhost:8080/"
        },
        "id": "P8BClIRsEfJO",
        "outputId": "e50db401-bdcd-4577-adf0-e97c0b88a614"
      },
      "execution_count": 22,
      "outputs": [
        {
          "output_type": "stream",
          "name": "stdout",
          "text": [
            "Tensor Shape of X torch.Size([10000, 21])\n",
            "Tensor Shape of Y torch.Size([10000])\n"
          ]
        }
      ]
    }
  ]
}